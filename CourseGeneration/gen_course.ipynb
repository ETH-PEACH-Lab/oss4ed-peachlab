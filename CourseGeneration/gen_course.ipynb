{
 "cells": [
  {
   "cell_type": "markdown",
   "metadata": {},
   "source": [
    "# Generating the JetBrains Academy Course\n",
    "\n",
    "This notebook serves as a showcase to the functionality of the second part of the pipeline to generate a JetBrains Academy Course from a closed and solved OSS GitHub issue. This part of the pipeline will create the lessons and tasks sequentially for the sake of simplicity and completeness. However, as the tasks do not depend on eachother during the file creation, several steps could be parallelized to improve the performance.\n",
    "\n",
    "## Processing the Input Data\n",
    "\n",
    "The first step of this part of the pipeline is to properly read the input given and pass it along to the appropriate functions. The given input is of the following form:\n",
    "\n",
    "```python\n",
    "class GuidedExercise(BaseModel):\n",
    "    id : int\n",
    "    title : str\n",
    "    gitInfo : GitInfo\n",
    "    exercise : str\n",
    "    steps : list[Step]\n",
    "    tags : list[str]\n",
    "```\n",
    "\n",
    "All the necessary types are defined in the coding blocks below"
   ]
  },
  {
   "cell_type": "code",
   "execution_count": 67,
   "metadata": {},
   "outputs": [],
   "source": [
    "# Dependencies of the pipeline\n",
    "import os\n",
    "import yaml\n",
    "from openai import OpenAI\n",
    "from github import Github\n",
    "from github import Auth\n",
    "from dotenv import load_dotenv\n",
    "from pydantic import BaseModel\n",
    "\n",
    "github_token = os.getenv('GITHUB_TOKEN')\n",
    "github_obj = Github(github_token)\n",
    "client = OpenAI()\n",
    "\n",
    "# Important types of the pipeline\n",
    "class GitInfo(BaseModel):\n",
    "    repo : str\n",
    "    issue : str\n",
    "    pr : str\n",
    "\n",
    "class CodeRange(BaseModel):\n",
    "    start: int\n",
    "    end: int\n",
    "\n",
    "class CodeStep(BaseModel):\n",
    "    id : int\n",
    "    summary : str\n",
    "    code : str\n",
    "    path : str\n",
    "    range : CodeRange\n",
    "\n",
    "class Step(BaseModel):\n",
    "    id : str\n",
    "    summary : str\n",
    "    codeSteps : list[CodeStep]\n",
    "    \n",
    "class GuidedExercise(BaseModel):\n",
    "    id : int\n",
    "    title : str\n",
    "    gitInfo : GitInfo\n",
    "    exercise : str\n",
    "    steps : list[Step]\n",
    "    tags : list[str]\n",
    "\n",
    "class TaskContent(BaseModel):\n",
    "    "
   ]
  },
  {
   "cell_type": "code",
   "execution_count": 76,
   "metadata": {},
   "outputs": [
    {
     "data": {
      "text/plain": [
       "__main__.Lesson"
      ]
     },
     "execution_count": 76,
     "metadata": {},
     "output_type": "execute_result"
    }
   ],
   "source": [
    "# Testing Random Shit\n",
    "\n",
    "content = {\n",
    "    \"task.js\": \"console.log(\\\"Hello World!\\\")\",\n",
    "    \"test\": \"\",\n",
    "    \"config\": None\n",
    "}\n",
    "generateTaskFolder(\"Testing Task\", \"# Testing Is Wonderful\", \"theory\", content, \"test_data\")\n",
    "test = {\"title\": [\"Hello World!\"], \"body\": \"Test 1\"}\n",
    "lesson = Lesson(**test)\n",
    "type(lesson)"
   ]
  },
  {
   "cell_type": "markdown",
   "metadata": {},
   "source": [
    "### Task Content\n",
    "\n",
    "To create the task folder, I expect the input to be passed as the following format:\n",
    "\n",
    "```python\n",
    "class Task(BaseModel):\n",
    "    title: str          # Title of the task\n",
    "    description: str    # Text which will be desplayed in the task description, already formatted\n",
    "    category: str       # Category of the task that will be specified in the config file\n",
    "    content: dict       # Dictionary containing the name of the file as the key and the content of the file as content\n",
    "    lesson_path: str    # Path of the lesson directory\n",
    "\n",
    "```"
   ]
  },
  {
   "cell_type": "code",
   "execution_count": 73,
   "metadata": {},
   "outputs": [],
   "source": [
    "def generateTaskFolder(title, description, category, content, lesson_path):\n",
    "    \"\"\"\n",
    "    This function generates a task folder which is the content of a lesson folder. \n",
    "    The inputs of the function are its title, description and type as well as its content. \n",
    "    By content we mean what the master solution of the task is.\n",
    "    \"\"\"\n",
    "\n",
    "    task_path = os.path.join(lesson_path, title)\n",
    "    os.makedirs(task_path, exist_ok=True)\n",
    "    file_paths = {}\n",
    "\n",
    "    # TODO: Files to create: -task.md -task.js -task-info.yaml\n",
    "    taskMD_path = os.path.join(task_path, \"task.md\")\n",
    "    with open(taskMD_path, \"w\", encoding=\"utf-8\") as f:\n",
    "        f.write(description)\n",
    "    \n",
    "    for file in content:\n",
    "        if content[file] == None or content[file] == \"\":\n",
    "            continue\n",
    "        file_path = os.path.join(task_path, file)\n",
    "        if file == \"test\":\n",
    "            test_folder = os.path.join(task_path, \"test\")\n",
    "            os.makedirs(test_folder, exist_ok=True)\n",
    "            file_path = os.path.join(test_folder, file)\n",
    "        with open(file_path, \"w\", encoding=\"utf-8\") as f:\n",
    "            f.write(content[file])\n",
    "        file_paths[file] = file_path\n",
    "\n",
    "    taskYML_path = os.path.join(task_path, \"task-info.yaml\")\n",
    "    with open(taskYML_path, \"w\", encoding=\"utf-8\") as f:\n",
    "        file_content = {\n",
    "            \"type\": category,\n",
    "            \"custom_name\": title,\n",
    "            \"files\": []\n",
    "        }\n",
    "        for file in file_paths:\n",
    "            file_content[\"files\"].append({\"name\": file, \"visible\": True})\n",
    "            yaml.dump(file_content, f, default_flow_style=False)\n",
    "\n",
    "    return task_path\n"
   ]
  },
  {
   "cell_type": "markdown",
   "metadata": {},
   "source": [
    "# Lesson Content\n",
    "\n",
    "Each lesson will be generated using GenAI to create its content. Depending on the type of the lesson, a different prompt will be used:\n",
    "- `introduction` lesson -> `generateIntroductionContent()` will be called, where the repository as well as the issue will be briefly introduced\n",
    "- `theory` lesson -> `generateTheoryContent()` will be called. The content will be short summaries about the necessary theoretical background to solve the issue\n",
    "- `content` lesson -> No function will be called, as all the content will have been already generated by a previous part of the pipeline\n",
    "- `debrief` lesson -> Currently still unclear if I need a prompt to generate content."
   ]
  },
  {
   "cell_type": "code",
   "execution_count": 69,
   "metadata": {},
   "outputs": [],
   "source": [
    "def generateIntroductionContent(issue_url, pr_url):\n",
    "    \"\"\"\n",
    "    This function takes as input the issue and pr url to generate the content of the \n",
    "    Introduction lesson, such that the introduction to the course is tailored to the \n",
    "    issue.\n",
    "    \"\"\"\n",
    "    generated_content = client.beta.chat.completions.parse(\n",
    "        model=\"gpt-4o-mini\",\n",
    "        response_format=Exercise,\n",
    "    )"
   ]
  },
  {
   "cell_type": "code",
   "execution_count": 70,
   "metadata": {},
   "outputs": [],
   "source": [
    "def generateTheoryContent(issue_url, pr_url):\n",
    "    \"\"\"\n",
    "    This function takes as input the issue and pr of the exercise. Its output is the content used\n",
    "    to create the Theory Lesson for the course, that presents the necessary theoretical knowledge to \n",
    "    the student taking the course. \n",
    "    \"\"\"\n",
    "\n",
    "    '''\n",
    "    TODO: The output of this function needs to be of the form\n",
    "    {\n",
    "        \"title\": \"\",\n",
    "        \"tasks\": {\n",
    "            \"title\": \"\",\n",
    "            \"description\": \"\"\n",
    "        }\n",
    "    }\n",
    "    where the description is already in MarkDown formatting.\n",
    "    '''\n",
    "    generated_content = client.beta.chat.completions.parse(\n",
    "        model=\"gpt-4o-mini\",\n",
    "        response_format=Exercise,\n",
    "    )\n",
    "\n"
   ]
  },
  {
   "cell_type": "markdown",
   "metadata": {},
   "source": [
    "To create a lesson folder, I expect that the function receives the following input\n",
    "\n",
    "```python\n",
    "class Lesson(BaseModel):\n",
    "    title: str          # Title of the lesson\n",
    "    description: str    # General Description of the lesson\n",
    "    git_info: GitInfo   # All the necessary github informations to generate the config files.\n",
    "    category: str       # The type of the lesson, either introduction, theory, coding, or debrief\n",
    "    steps: list[Step]   # A list of the steps, i.e. tasks to be created inside the lesson\n",
    "    course_path: str    # Absolute path of the lesson folder\n",
    "\n",
    "class Step(BaseModel):\n",
    "    id : str                    # ID of the step\n",
    "    summary : str               # Short summary describing what needs to be done, i.e. the task description\n",
    "    codeSteps : list[CodeStep]  # The list of all the hints for that specific step/task\n",
    "```\n",
    "\n",
    "For theory tasks, the `codeSteps` field of the `Step()` class will be left empty, as we don't need any hints. The task description will be saved in the `summary` field. The input `steps` will also be empty for all lesson types except for the *coding* lessons, as the steps won't be generated by this part but will have been given by the previous section of the pipeline."
   ]
  },
  {
   "cell_type": "code",
   "execution_count": 72,
   "metadata": {},
   "outputs": [],
   "source": [
    "def generateLessonFolder(title, description, git_info, category, steps, course_path):\n",
    "    \"\"\"\n",
    "    This function generates a lesson folder necessary for a JetBrains Academy course. Its input\n",
    "    are the content of each task it has as well as its title and description\n",
    "    The types of the lesson's are: \"introduction\", \"theory\", \"coding\", and \"debrief\"\n",
    "    \"\"\"\n",
    "    \n",
    "    lesson_path = os.path.join(course_path, category)\n",
    "    os.makedirs(lesson_path, exist_ok=True)\n",
    "    task_paths = {}\n",
    "\n",
    "    if (category == \"introduction\"):\n",
    "        # TODO: Don't forget to generate the config.js file to properly set-up the course for the plugin\n",
    "        # TODO: Generate the task descriptions properly according to the github issue\n",
    "        stop = 1\n",
    "\n",
    "    elif (category == \"theory\"):\n",
    "        tasks = generateTheoryContent(git_info.issue, git_info.pr)\n",
    "        for task in tasks:\n",
    "            \n",
    "\n",
    "    elif (category == \"coding\"):\n",
    "        stop = 1\n",
    "\n",
    "    elif (category == \"debrief\"):\n",
    "        # TODO: Either generate content using AI or use hardcoded text\n",
    "        stop = 1\n",
    "        \n",
    "    else:\n",
    "        raise Exception(\"Wrong Lesson Type given to the function!\")\n"
   ]
  },
  {
   "cell_type": "code",
   "execution_count": 68,
   "metadata": {},
   "outputs": [],
   "source": [
    "def generateCourseFolder(input: GuidedExercise):\n",
    "    \"\"\"\n",
    "    This function takes as input a specific json format generated by the previous part of the pipeline.\n",
    "    The format is equivalent to the GuidedExercise class described in the beginning.\n",
    "    It outputs an entire folder which possesses the structure needed to be considered a course by \n",
    "    the JetBrains Academy plugin\n",
    "    \"\"\"\n",
    "    # TODO: Check for the proper format of the input\n",
    "    try:\n",
    "        theory_content = generateTheoryContent(input.gitInfo.issue, input.gitInfo.pr)\n",
    "    except:\n",
    "        print(\"Wrong input type has been given.\")\n",
    "\n",
    "    return None"
   ]
  },
  {
   "cell_type": "markdown",
   "metadata": {},
   "source": [
    "## Running the Pipeline\n",
    "\n",
    "Now we are ready to run the entire pipeline. Feel free to run the last cell to see how a course is generated!"
   ]
  },
  {
   "cell_type": "code",
   "execution_count": null,
   "metadata": {},
   "outputs": [],
   "source": [
    "placeholder_input = {\n",
    "    \"id\": 0\n",
    "}\n",
    "generateCourseFolder(placeholder_input)"
   ]
  }
 ],
 "metadata": {
  "kernelspec": {
   "display_name": "usr",
   "language": "python",
   "name": "python3"
  },
  "language_info": {
   "codemirror_mode": {
    "name": "ipython",
    "version": 3
   },
   "file_extension": ".py",
   "mimetype": "text/x-python",
   "name": "python",
   "nbconvert_exporter": "python",
   "pygments_lexer": "ipython3",
   "version": "3.13.0"
  }
 },
 "nbformat": 4,
 "nbformat_minor": 2
}
