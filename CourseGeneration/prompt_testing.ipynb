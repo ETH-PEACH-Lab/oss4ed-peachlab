{
 "cells": [
  {
   "cell_type": "markdown",
   "metadata": {},
   "source": [
    "# Prompt Testing\n",
    "\n",
    "This notebook serves to showcase my work while trying to find the best prompt to generate the content in the [`gen_course.ipynb`](gen_course.ipynb) file. The process I use is an iterative one, starting with copying the prompts of the first part of the pipeline which can be found in [Fetching Data](../FetchingData/) repository.\n",
    "\n",
    "## Techniques\n",
    "\n",
    "The techniques I want to try out in the beginning are the following:\n",
    "\n",
    "- Prompt Chaining\n",
    "- Meta Prompting\n",
    "- Tree of thought prompting\n",
    "- Chain of though prompting\n",
    "\n",
    "I'm thinking of combining multiple techniques to help me be more efficient. This is especially the case for **Meta Prompting**, as it will help me generate a lot of prompts in a short amount of times. All the generated and manually created prompts can be found in the [prompt](./prompts) folder. They will be paired with their inputs and results."
   ]
  },
  {
   "cell_type": "code",
   "execution_count": 1,
   "metadata": {},
   "outputs": [],
   "source": [
    "# Dependencies of the pipeline\n",
    "import os\n",
    "from openai import OpenAI\n",
    "from github import Github\n",
    "from github import Auth\n",
    "from dotenv import load_dotenv\n",
    "from pydantic import BaseModel\n",
    "import pandas as pd\n",
    "\n",
    "github_token = os.getenv('GITHUB_TOKEN')\n",
    "github_obj = Github(github_token)\n",
    "client = OpenAI()\n",
    "\n",
    "theory_lesson_prompts = []"
   ]
  },
  {
   "cell_type": "code",
   "execution_count": 2,
   "metadata": {},
   "outputs": [],
   "source": [
    "def viewPromptsAsText(df, file_name):\n",
    "    \"\"\"\n",
    "    This functions generates a .txt file to properly visualize the text and tasks created\n",
    "    by the prompt. Its input is an entire pandas dataframe. The output in the .txt file \n",
    "    will be formatted as followed:\n",
    "    1. Input\n",
    "    2. Prompt\n",
    "    3. Ouptut of Prompt with each task displayed sequentially\n",
    "    \"\"\"\n",
    "\n",
    "    file_path = os.path.join(\"prompts\", file_name)\n",
    "    with open(file_path, \"w\", encoding=\"utf-8\") as f:\n",
    "        for i, row in df.iterrows():\n",
    "            input_txt = \"INPUT\\n\\n\" + f\"{row[1]}\\n\\n\"\n",
    "            prompt_txt = \"PROMPT\\n\\n\" + f\"{row[2]}\\n\\n\"\n",
    "            output_title = \"OUTPUT\\n\\n\"\n",
    "            end_txt = \"----------------\\n\\n\"\n",
    "\n",
    "            setup_txt = f\"{input_txt}\" + f\"{prompt_txt}\" + f\"{output_title}\"\n",
    "            f.write(setup_txt)\n",
    "            for j in range(3,len(row)):\n",
    "                task_txt = f\"{row[j]}\\n\\n\"\n",
    "                f.write(task_txt)\n",
    "            \n",
    "            f.write(end_txt)"
   ]
  },
  {
   "cell_type": "markdown",
   "metadata": {},
   "source": [
    "## Prompts for Theory Lessons\n",
    "\n",
    "In this section, I will showcase my work for creating and selecting a good prompt to generate the content for the lessons of type **theory** in the pipeline. The output of the prompts will be the of the Lesson type."
   ]
  },
  {
   "cell_type": "code",
   "execution_count": 6,
   "metadata": {},
   "outputs": [],
   "source": [
    "class TheoryTaskContent(BaseModel):\n",
    "    title: str\n",
    "    description: str\n",
    "    additional_readings: list[str]\n",
    "\n",
    "class TheoryLessonContent(BaseModel):\n",
    "    title: str\n",
    "    tasks: list[TheoryTaskContent]"
   ]
  },
  {
   "cell_type": "markdown",
   "metadata": {},
   "source": [
    "### Copy Pasted from The First Half of Pipeline\n",
    "\n",
    "This prompt has been created by following the same style of prompts which were used in the first half of the pipeline. An issue that has occured is that only the first task has a title, while the rest of them don't have any."
   ]
  },
  {
   "cell_type": "code",
   "execution_count": 13,
   "metadata": {},
   "outputs": [
    {
     "name": "stdout",
     "output_type": "stream",
     "text": [
      "ParsedChatCompletion[TheoryLessonContent](id='chatcmpl-BsAC9LTCPvuLepv6o7L4zVGDXHpx1', choices=[ParsedChoice[TheoryLessonContent](finish_reason='stop', index=0, logprobs=None, message=ParsedChatCompletionMessage[TheoryLessonContent](content='{\\n  \"title\": \"Understanding API Pagination in Web Applications\",\\n  \"tasks\": [\\n    {\\n      \"title\": \"What is API Pagination?\",\\n      \"description\": \"API pagination is a technique used to divide a large dataset into smaller, manageable chunks, or \\'pages\\'. Each page contains a limited number of results, which helps in improving performance and user experience by reducing load times. When working with RESTful APIs, pagination is necessary to retrieve large datasets in multiple requests.\",\\n      \"additional_readings\": [\\n        \"https://www.restapitutorial.com/lessons/advanced.html#pagination\",\\n        \"https://developer.mozilla.org/en-US/docs/Web/HTTP/Status#pagination\"\\n      ]\\n    },\\n    {\\n      \"title\": \"Common Pagination Strategies\",\\n      \"description\": \"There are several strategies for implementing pagination in APIs. The most common methods are \\'Offset-based pagination\\', where the client specifies an \\'offset\\' and a \\'limit\\' to determine which records to retrieve, and \\'Cursor-based pagination\\', which uses a reference point (cursor) to fetch results, often improving performance and consistency.\",\\n      \"additional_readings\": [\\n        \"https://medium.com/swlh/pagination-in-rest-api-d2a094db0c4d\",\\n        \"https://www.thoughtspot.com/blog/how-touse-cursor-based-pagination\"\\n      ]\\n    },\\n    {\\n      \"title\": \"HTTP Headers in Pagination\",\\n      \"description\": \"When implementing pagination, APIs often use HTTP headers to convey helpful information about the pagination state. Common headers include \\'Link\\', which shows URLs to the next, previous, first, and last pages, and \\'X-Total-Count\\', which indicates the total number of records available. This metadata is crucial for the client to understand how to navigate through pages.\",\\n      \"additional_readings\": [\\n        \"https://jsonapi.org/format/#pagination\",\\n        \"https://dev.to/herank/pagination-in-apis-http-headers-as-a-solution-3k7e\"\\n      ]\\n    },\\n    {\\n      \"title\": \"Handling Pagination in Client Applications\",\\n      \"description\": \"Client applications must handle pagination correctly to ensure a seamless user experience. This includes managing state to keep track of the current page, implementing controls for navigating between pages, and ensuring that additional requests are efficiently made to fetch more data when needed.\",\\n      \"additional_readings\": [\\n        \"https://www.apollographql.com/docs/react/data/pagination/\",\\n        \"https://reactjs.org/docs/components-and-props.html#rendering-a-component\"\\n      ]\\n    },\\n    {\\n      \"title\": \"Error Handling in Paginated APIs\",\\n      \"description\": \"When working with paginated APIs, you should be prepared to handle errors effectively. This includes managing scenarios where requested pages may not exist, handling rate limits, and being ready to retry requests if they fail due to server errors. Robust error handling is essential for maintaining a reliable client experience.\",\\n      \"additional_readings\": [\\n        \"https://www.restapitutorial.com/lessons/errorhandling.html\",\\n        \"https://www.smashingmagazine.com/2020/04/rest-api-best-practices/\"\\n      ]\\n    }\\n  ]\\n}', refusal=None, role='assistant', audio=None, function_call=None, tool_calls=None, parsed=TheoryLessonContent(title='Understanding API Pagination in Web Applications', tasks=[TheoryTaskContent(title='What is API Pagination?', description=\"API pagination is a technique used to divide a large dataset into smaller, manageable chunks, or 'pages'. Each page contains a limited number of results, which helps in improving performance and user experience by reducing load times. When working with RESTful APIs, pagination is necessary to retrieve large datasets in multiple requests.\", additional_readings=['https://www.restapitutorial.com/lessons/advanced.html#pagination', 'https://developer.mozilla.org/en-US/docs/Web/HTTP/Status#pagination']), TheoryTaskContent(title='Common Pagination Strategies', description=\"There are several strategies for implementing pagination in APIs. The most common methods are 'Offset-based pagination', where the client specifies an 'offset' and a 'limit' to determine which records to retrieve, and 'Cursor-based pagination', which uses a reference point (cursor) to fetch results, often improving performance and consistency.\", additional_readings=['https://medium.com/swlh/pagination-in-rest-api-d2a094db0c4d', 'https://www.thoughtspot.com/blog/how-touse-cursor-based-pagination']), TheoryTaskContent(title='HTTP Headers in Pagination', description=\"When implementing pagination, APIs often use HTTP headers to convey helpful information about the pagination state. Common headers include 'Link', which shows URLs to the next, previous, first, and last pages, and 'X-Total-Count', which indicates the total number of records available. This metadata is crucial for the client to understand how to navigate through pages.\", additional_readings=['https://jsonapi.org/format/#pagination', 'https://dev.to/herank/pagination-in-apis-http-headers-as-a-solution-3k7e']), TheoryTaskContent(title='Handling Pagination in Client Applications', description='Client applications must handle pagination correctly to ensure a seamless user experience. This includes managing state to keep track of the current page, implementing controls for navigating between pages, and ensuring that additional requests are efficiently made to fetch more data when needed.', additional_readings=['https://www.apollographql.com/docs/react/data/pagination/', 'https://reactjs.org/docs/components-and-props.html#rendering-a-component']), TheoryTaskContent(title='Error Handling in Paginated APIs', description='When working with paginated APIs, you should be prepared to handle errors effectively. This includes managing scenarios where requested pages may not exist, handling rate limits, and being ready to retry requests if they fail due to server errors. Robust error handling is essential for maintaining a reliable client experience.', additional_readings=['https://www.restapitutorial.com/lessons/errorhandling.html', 'https://www.smashingmagazine.com/2020/04/rest-api-best-practices/'])]), annotations=[]))], created=1752248601, model='gpt-4o-mini-2024-07-18', object='chat.completion', service_tier='default', system_fingerprint=None, usage=CompletionUsage(completion_tokens=651, prompt_tokens=423, total_tokens=1074, completion_tokens_details=CompletionTokensDetails(accepted_prediction_tokens=0, audio_tokens=0, reasoning_tokens=0, rejected_prediction_tokens=0), prompt_tokens_details=PromptTokensDetails(audio_tokens=0, cached_tokens=0)))\n"
     ]
    }
   ],
   "source": [
    "input_data = {\n",
    "    \"issue\": \"https://github.com/mattermost/mattermost/issues/29338\",\n",
    "    \"pr\": \"https://github.com/mattermost/mattermost/pull/29341\"\n",
    "}\n",
    "prompt = \"\"\"You are an instructor creating programming exercises from closed GitHub issues.\n",
    "\n",
    "            Input:\n",
    "            $ISSUE, a github url linking to the GitHub Issue\n",
    "            $PR, a link to the pull request solving the said issue.\n",
    "\n",
    "            Output: A lesson teaching the student the necessary theoretical background to solve the issue.\n",
    "            Each task of the lesson must be consice and relevant.\n",
    "            Each task should only explain ONE concept.\n",
    "            For each task, provide extra reading for the student in form of links.\n",
    "            Make sure that the links work.\n",
    "            Each task should NOT divulge any concrete solutions to solve the issue.\n",
    "            The format of the output should be as follows:\n",
    "            {\n",
    "                \"title\": the title of the lesson\n",
    "                \"tasks:  a list of each task\n",
    "            }\n",
    "            The elements of the \"tasks\" field should be in the following format:\n",
    "            {\n",
    "                \"title\": the title of the task\n",
    "                \"description\": the content of the task, explaining the theoretical concept\n",
    "                \"additional_readings\": the list of urls of the additional readings as a list of strings\n",
    "            }\n",
    "\n",
    "            You will now be given a pair of ($ISSUE, $PR). Generate the output following the instructions as closely as possible.\n",
    "\"\"\"\n",
    "input = \"$ISSUE = \" + f\"{input_data[\"issue\"]}\" + \", $PR = \" + f\"{input_data[\"pr\"]}\"\n",
    "\n",
    "output = client.beta.chat.completions.parse(\n",
    "    model=\"gpt-4o-mini\",\n",
    "    response_format=TheoryLessonContent,\n",
    "    messages = [{\"role\": \"system\", \"content\": prompt}, {\"role\": \"user\", \"content\": input}]\n",
    ")\n",
    "\n",
    "print(output.choices[0].message.parsed)"
   ]
  },
  {
   "cell_type": "code",
   "execution_count": 40,
   "metadata": {},
   "outputs": [],
   "source": [
    "response = output.choices[0].message.parsed\n",
    "\n",
    "parsed_output = {\"input\": input, \"prompt\": prompt, \"title\": response.title}\n",
    "index = 1\n",
    "for task in response.tasks:\n",
    "    task_key = f\"task{index}\"\n",
    "    parsed_output[task_key] = task.description\n",
    "    link_key = f\"{task_key}_links\"\n",
    "    parsed_output[link_key] = task.additional_readings\n",
    "    index += 1\n",
    "\n",
    "theory_lesson_prompts.append(parsed_output)\n",
    "theory_lesson_Df = pd.DataFrame(theory_lesson_prompts)\n",
    "theory_lesson_Df.to_csv(path_or_buf=\"prompts/theory_prompts.csv\")"
   ]
  },
  {
   "cell_type": "code",
   "execution_count": 38,
   "metadata": {},
   "outputs": [
    {
     "data": {
      "text/plain": [
       "<bound method NDFrame.head of                                                input  \\\n",
       "0  $ISSUE = \\n$https://github.com/mattermost/matt...   \n",
       "1  $ISSUE = \\n$https://github.com/mattermost/matt...   \n",
       "2  $ISSUE = \\n$https://github.com/mattermost/matt...   \n",
       "\n",
       "                                              prompt  \\\n",
       "0  You are an instructor creating programming exe...   \n",
       "1  You are an instructor creating programming exe...   \n",
       "2  You are an instructor creating programming exe...   \n",
       "\n",
       "                                              title  \\\n",
       "0  Understanding API Pagination in Web Applications   \n",
       "1  Understanding API Pagination in Web Applications   \n",
       "2  Understanding API Pagination in Web Applications   \n",
       "\n",
       "                             What is API Pagination?  \\\n",
       "0  API pagination is a technique used to divide a...   \n",
       "1                                                NaN   \n",
       "2                                                NaN   \n",
       "\n",
       "                                         task1_links  \\\n",
       "0  [https://www.restapitutorial.com/lessons/advan...   \n",
       "1  [https://www.restapitutorial.com/lessons/advan...   \n",
       "2  [https://www.restapitutorial.com/lessons/advan...   \n",
       "\n",
       "                        Common Pagination Strategies  \\\n",
       "0  There are several strategies for implementing ...   \n",
       "1                                                NaN   \n",
       "2                                                NaN   \n",
       "\n",
       "                                         task2_links  \\\n",
       "0  [https://medium.com/swlh/pagination-in-rest-ap...   \n",
       "1  [https://medium.com/swlh/pagination-in-rest-ap...   \n",
       "2  [https://medium.com/swlh/pagination-in-rest-ap...   \n",
       "\n",
       "                          HTTP Headers in Pagination  \\\n",
       "0  When implementing pagination, APIs often use H...   \n",
       "1                                                NaN   \n",
       "2                                                NaN   \n",
       "\n",
       "                                         task3_links  \\\n",
       "0  [https://jsonapi.org/format/#pagination, https...   \n",
       "1  [https://jsonapi.org/format/#pagination, https...   \n",
       "2  [https://jsonapi.org/format/#pagination, https...   \n",
       "\n",
       "          Handling Pagination in Client Applications  \\\n",
       "0  Client applications must handle pagination cor...   \n",
       "1                                                NaN   \n",
       "2                                                NaN   \n",
       "\n",
       "                                         task4_links  \\\n",
       "0  [https://www.apollographql.com/docs/react/data...   \n",
       "1  [https://www.apollographql.com/docs/react/data...   \n",
       "2  [https://www.apollographql.com/docs/react/data...   \n",
       "\n",
       "                    Error Handling in Paginated APIs  \\\n",
       "0  When working with paginated APIs, you should b...   \n",
       "1                                                NaN   \n",
       "2                                                NaN   \n",
       "\n",
       "                                         task5_links  \\\n",
       "0  [https://www.restapitutorial.com/lessons/error...   \n",
       "1  [https://www.restapitutorial.com/lessons/error...   \n",
       "2  [https://www.restapitutorial.com/lessons/error...   \n",
       "\n",
       "                                               task1  \\\n",
       "0                                                NaN   \n",
       "1  API pagination is a technique used to divide a...   \n",
       "2  API pagination is a technique used to divide a...   \n",
       "\n",
       "                                               task2  \\\n",
       "0                                                NaN   \n",
       "1  There are several strategies for implementing ...   \n",
       "2  There are several strategies for implementing ...   \n",
       "\n",
       "                                               task3  \\\n",
       "0                                                NaN   \n",
       "1  When implementing pagination, APIs often use H...   \n",
       "2  When implementing pagination, APIs often use H...   \n",
       "\n",
       "                                               task4  \\\n",
       "0                                                NaN   \n",
       "1  Client applications must handle pagination cor...   \n",
       "2  Client applications must handle pagination cor...   \n",
       "\n",
       "                                               task5  \n",
       "0                                                NaN  \n",
       "1  When working with paginated APIs, you should b...  \n",
       "2  When working with paginated APIs, you should b...  >"
      ]
     },
     "execution_count": 38,
     "metadata": {},
     "output_type": "execute_result"
    }
   ],
   "source": [
    "theory_lesson_Df.head"
   ]
  },
  {
   "cell_type": "markdown",
   "metadata": {},
   "source": [
    "### Prompt Chaining\n",
    "\n",
    "In this part, I'll try to chain different prompts together to have a more fine-tuned and correct output. This method could be extended to accept user input as well, making the course generation more responsive to the instructor's wishes."
   ]
  },
  {
   "cell_type": "markdown",
   "metadata": {},
   "source": [
    "### Meta Prompting\n",
    "\n",
    "In this part, I will give AI the role of creating and reviewing the prompts."
   ]
  },
  {
   "cell_type": "markdown",
   "metadata": {},
   "source": [
    "## Prompts for the Introduction Lessons"
   ]
  },
  {
   "cell_type": "markdown",
   "metadata": {},
   "source": [
    "## Prompts for the Debrief Lesson"
   ]
  }
 ],
 "metadata": {
  "kernelspec": {
   "display_name": "usr",
   "language": "python",
   "name": "python3"
  },
  "language_info": {
   "codemirror_mode": {
    "name": "ipython",
    "version": 3
   },
   "file_extension": ".py",
   "mimetype": "text/x-python",
   "name": "python",
   "nbconvert_exporter": "python",
   "pygments_lexer": "ipython3",
   "version": "3.13.3"
  }
 },
 "nbformat": 4,
 "nbformat_minor": 2
}
