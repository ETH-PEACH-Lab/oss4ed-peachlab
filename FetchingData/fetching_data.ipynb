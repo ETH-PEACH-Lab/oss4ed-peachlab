{
 "cells": [
  {
   "cell_type": "markdown",
   "metadata": {},
   "source": [
    "# Fetching Data\n",
    "\n",
    "This file is pulling all the necessary informations from the github repositories and formatting it into the following JSON format:\n",
    "- Name of Issue\n",
    "- ID of the Issue\n",
    "- Name of the Repo\n",
    "- ID of the Repo\n",
    "- Code Changes"
   ]
  },
  {
   "cell_type": "code",
   "execution_count": 38,
   "metadata": {},
   "outputs": [],
   "source": [
    "# Parameters for the Notebook\n",
    "# You can set the parameters to the ones you need before running the entire notebook\n",
    "\n",
    "github_url: str = \"\"                # url of the repo, set only if you want a manual issue\n",
    "manual_issue: bool = True           # \n",
    "\n",
    "# Set-Up of the Notebook\n",
    "\n",
    "import pandas as pd\n",
    "import numpy as np\n",
    "import os\n",
    "from github import Github\n",
    "from dotenv import load_dotenv\n",
    "\n",
    "load_dotenv()\n",
    "GITHUB_TOKEN = os.getenv(\"GITHUB_TOKEN\")\n",
    "GITHUB_OBJECT = Github(GITHUB_TOKEN)\n",
    "\n",
    "\n"
   ]
  },
  {
   "cell_type": "markdown",
   "metadata": {},
   "source": [
    "### Creating the Database\n",
    "\n",
    "The following code is only made to create a database of all the repos url I have to select from."
   ]
  },
  {
   "cell_type": "code",
   "execution_count": 3,
   "metadata": {},
   "outputs": [],
   "source": [
    "reactRepo = GITHUB_OBJECT.search_repositories(query=f'topic:react language:JavaScript language:TypeScript', sort=\"stars\", order=\"desc\")"
   ]
  },
  {
   "cell_type": "code",
   "execution_count": 75,
   "metadata": {},
   "outputs": [
    {
     "name": "stdout",
     "output_type": "stream",
     "text": [
      "committed\n",
      "review_requested\n",
      "labeled\n",
      "commented\n",
      "closed\n",
      "mentioned\n",
      "subscribed\n",
      "head_ref_deleted\n"
     ]
    }
   ],
   "source": [
    "for inx, repo in enumerate(reactRepo):\n",
    "    issues = repo.get_issues(state=\"closed\")\n",
    "    for indx, issue in enumerate(issues):\n",
    "        timeline = issue.get_timeline()\n",
    "        for event in timeline:\n",
    "            print(event.event)\n",
    "        break\n",
    "    break"
   ]
  }
 ],
 "metadata": {
  "kernelspec": {
   "display_name": "usr",
   "language": "python",
   "name": "python3"
  },
  "language_info": {
   "codemirror_mode": {
    "name": "ipython",
    "version": 3
   },
   "file_extension": ".py",
   "mimetype": "text/x-python",
   "name": "python",
   "nbconvert_exporter": "python",
   "pygments_lexer": "ipython3",
   "version": "3.13.0"
  }
 },
 "nbformat": 4,
 "nbformat_minor": 2
}
